{
  "nbformat": 4,
  "nbformat_minor": 0,
  "metadata": {
    "colab": {
      "name": "#1 Simple Linear Regression.ipynb",
      "provenance": [],
      "collapsed_sections": []
    },
    "kernelspec": {
      "display_name": "Python 3",
      "name": "python3"
    },
    "language_info": {
      "name": "python"
    }
  },
  "cells": [
    {
      "cell_type": "markdown",
      "metadata": {
        "id": "sOIXHVJO4L7y"
      },
      "source": [
        "Lulu Zha\n",
        "\n",
        "\\#1 Prediction using Supervised ML"
      ]
    },
    {
      "cell_type": "code",
      "metadata": {
        "id": "WCrAMWI4bsC_"
      },
      "source": [
        "# Importing required libraries\n",
        "import pandas as pd\n",
        "import numpy as np\n",
        "import matplotlib.pyplot as plt  \n",
        "%matplotlib inline"
      ],
      "execution_count": null,
      "outputs": []
    },
    {
      "cell_type": "code",
      "metadata": {
        "colab": {
          "base_uri": "https://localhost:8080/",
          "height": 204
        },
        "id": "xl1KXTXitI78",
        "outputId": "12e71cf6-158d-4261-ce45-09c7342284bd"
      },
      "source": [
        "# Importing data\n",
        "data = pd.read_csv('http://bit.ly/w-data')\n",
        "data.head()"
      ],
      "execution_count": null,
      "outputs": [
        {
          "output_type": "execute_result",
          "data": {
            "text/html": [
              "<div>\n",
              "<style scoped>\n",
              "    .dataframe tbody tr th:only-of-type {\n",
              "        vertical-align: middle;\n",
              "    }\n",
              "\n",
              "    .dataframe tbody tr th {\n",
              "        vertical-align: top;\n",
              "    }\n",
              "\n",
              "    .dataframe thead th {\n",
              "        text-align: right;\n",
              "    }\n",
              "</style>\n",
              "<table border=\"1\" class=\"dataframe\">\n",
              "  <thead>\n",
              "    <tr style=\"text-align: right;\">\n",
              "      <th></th>\n",
              "      <th>Hours</th>\n",
              "      <th>Scores</th>\n",
              "    </tr>\n",
              "  </thead>\n",
              "  <tbody>\n",
              "    <tr>\n",
              "      <th>0</th>\n",
              "      <td>2.5</td>\n",
              "      <td>21</td>\n",
              "    </tr>\n",
              "    <tr>\n",
              "      <th>1</th>\n",
              "      <td>5.1</td>\n",
              "      <td>47</td>\n",
              "    </tr>\n",
              "    <tr>\n",
              "      <th>2</th>\n",
              "      <td>3.2</td>\n",
              "      <td>27</td>\n",
              "    </tr>\n",
              "    <tr>\n",
              "      <th>3</th>\n",
              "      <td>8.5</td>\n",
              "      <td>75</td>\n",
              "    </tr>\n",
              "    <tr>\n",
              "      <th>4</th>\n",
              "      <td>3.5</td>\n",
              "      <td>30</td>\n",
              "    </tr>\n",
              "  </tbody>\n",
              "</table>\n",
              "</div>"
            ],
            "text/plain": [
              "   Hours  Scores\n",
              "0    2.5      21\n",
              "1    5.1      47\n",
              "2    3.2      27\n",
              "3    8.5      75\n",
              "4    3.5      30"
            ]
          },
          "metadata": {
            "tags": []
          },
          "execution_count": 2
        }
      ]
    },
    {
      "cell_type": "code",
      "metadata": {
        "colab": {
          "base_uri": "https://localhost:8080/",
          "height": 296
        },
        "id": "KBBJiWKl2dm8",
        "outputId": "79e5d67f-1f56-47f9-c999-cdeb67d61880"
      },
      "source": [
        "# Showing the relation between 'Hours' and 'Scores'\n",
        "plt.scatter(data['Hours'], data['Scores'])\n",
        "plt.xlabel('Hours')  \n",
        "plt.ylabel('Score')\n",
        "\n",
        "# There is a positive correlation between 'Hours' and 'Scores'"
      ],
      "execution_count": null,
      "outputs": [
        {
          "output_type": "execute_result",
          "data": {
            "text/plain": [
              "Text(0, 0.5, 'Score')"
            ]
          },
          "metadata": {
            "tags": []
          },
          "execution_count": 3
        },
        {
          "output_type": "display_data",
          "data": {
            "image/png": "[encoded data removed]",
            "text/plain": [
              "<Figure size 432x288 with 1 Axes>"
            ]
          },
          "metadata": {
            "tags": [],
            "needs_background": "light"
          }
        }
      ]
    },
    {
      "cell_type": "code",
      "metadata": {
        "id": "cX4yB99jeVlb"
      },
      "source": [
        "X = data['Hours']\n",
        "y = data['Scores']"
      ],
      "execution_count": null,
      "outputs": []
    },
    {
      "cell_type": "code",
      "metadata": {
        "id": "vL2pgeIUemaM"
      },
      "source": [
        "# Spliting the data into training set and testing set(80:20)\n",
        "from sklearn.model_selection import train_test_split  \n",
        "X_train, X_test, y_train, y_test = train_test_split(X, y, train_size=0.8) "
      ],
      "execution_count": null,
      "outputs": []
    },
    {
      "cell_type": "code",
      "metadata": {
        "id": "bL6HuJKEfVF1"
      },
      "source": [
        "X_train = X_train.values.reshape(-1,1)\n",
        "X_test = X_test.values.reshape(-1,1)"
      ],
      "execution_count": null,
      "outputs": []
    },
    {
      "cell_type": "code",
      "metadata": {
        "id": "_4lPCn2Des9E",
        "colab": {
          "base_uri": "https://localhost:8080/"
        },
        "outputId": "4a50b4f3-00cf-4615-9b51-6c1f9e2c9b92"
      },
      "source": [
        "# Using linear regression model for this task\n",
        "from sklearn.linear_model import LinearRegression  \n",
        "linear_reg = LinearRegression()  \n",
        "linear_reg.fit(X_train, y_train) "
      ],
      "execution_count": null,
      "outputs": [
        {
          "output_type": "execute_result",
          "data": {
            "text/plain": [
              "LinearRegression(copy_X=True, fit_intercept=True, n_jobs=None, normalize=False)"
            ]
          },
          "metadata": {
            "tags": []
          },
          "execution_count": 7
        }
      ]
    },
    {
      "cell_type": "code",
      "metadata": {
        "colab": {
          "base_uri": "https://localhost:8080/",
          "height": 265
        },
        "id": "q_tFUK4Se0Yd",
        "outputId": "3be8303f-582a-4d99-800e-86b9928e45cb"
      },
      "source": [
        "# Plotting the regression line\n",
        "a = linear_reg.coef_\n",
        "b = linear_reg.intercept_\n",
        "line = a * X + b\n",
        "\n",
        "# Plotting the data and the regression line\n",
        "plt.scatter(X, y)\n",
        "plt.plot(X, line);"
      ],
      "execution_count": null,
      "outputs": [
        {
          "output_type": "display_data",
          "data": {
            "image/png": "[encoded data removed]",
            "text/plain": [
              "<Figure size 432x288 with 1 Axes>"
            ]
          },
          "metadata": {
            "tags": [],
            "needs_background": "light"
          }
        }
      ]
    },
    {
      "cell_type": "code",
      "metadata": {
        "id": "qLRzoc_Oe-4D"
      },
      "source": [
        "# Predicting the score\n",
        "y_test_pred = linear_reg.predict(X_test)"
      ],
      "execution_count": null,
      "outputs": []
    },
    {
      "cell_type": "code",
      "metadata": {
        "colab": {
          "base_uri": "https://localhost:8080/",
          "height": 204
        },
        "id": "E8iX0AOCfD9B",
        "outputId": "e7ec4f1d-736f-4461-f9df-fbeb87e0fd28"
      },
      "source": [
        "# Comparing actual score with predicted score\n",
        "df = pd.DataFrame({'Actual': y_test, 'Predicted': y_test_pred})  \n",
        "df "
      ],
      "execution_count": null,
      "outputs": [
        {
          "output_type": "execute_result",
          "data": {
            "text/html": [
              "<div>\n",
              "<style scoped>\n",
              "    .dataframe tbody tr th:only-of-type {\n",
              "        vertical-align: middle;\n",
              "    }\n",
              "\n",
              "    .dataframe tbody tr th {\n",
              "        vertical-align: top;\n",
              "    }\n",
              "\n",
              "    .dataframe thead th {\n",
              "        text-align: right;\n",
              "    }\n",
              "</style>\n",
              "<table border=\"1\" class=\"dataframe\">\n",
              "  <thead>\n",
              "    <tr style=\"text-align: right;\">\n",
              "      <th></th>\n",
              "      <th>Actual</th>\n",
              "      <th>Predicted</th>\n",
              "    </tr>\n",
              "  </thead>\n",
              "  <tbody>\n",
              "    <tr>\n",
              "      <th>6</th>\n",
              "      <td>88</td>\n",
              "      <td>92.984925</td>\n",
              "    </tr>\n",
              "    <tr>\n",
              "      <th>22</th>\n",
              "      <td>35</td>\n",
              "      <td>39.932509</td>\n",
              "    </tr>\n",
              "    <tr>\n",
              "      <th>21</th>\n",
              "      <td>54</td>\n",
              "      <td>49.757030</td>\n",
              "    </tr>\n",
              "    <tr>\n",
              "      <th>16</th>\n",
              "      <td>30</td>\n",
              "      <td>27.160631</td>\n",
              "    </tr>\n",
              "    <tr>\n",
              "      <th>0</th>\n",
              "      <td>21</td>\n",
              "      <td>27.160631</td>\n",
              "    </tr>\n",
              "  </tbody>\n",
              "</table>\n",
              "</div>"
            ],
            "text/plain": [
              "    Actual  Predicted\n",
              "6       88  92.984925\n",
              "22      35  39.932509\n",
              "21      54  49.757030\n",
              "16      30  27.160631\n",
              "0       21  27.160631"
            ]
          },
          "metadata": {
            "tags": []
          },
          "execution_count": 11
        }
      ]
    },
    {
      "cell_type": "code",
      "metadata": {
        "colab": {
          "base_uri": "https://localhost:8080/"
        },
        "id": "EVY9TPtNfIPl",
        "outputId": "358b5df3-3240-486e-e76f-c07cf276e865"
      },
      "source": [
        "# predicted score for 9.25 hrs/day\n",
        "hours = 9.25\n",
        "score_pred = linear_reg.predict(np.array(hours).reshape(-1,1))\n",
        "print(\"Hours =\", hours)\n",
        "print(\"Predicted Score =\", score_pred[0])"
      ],
      "execution_count": null,
      "outputs": [
        {
          "output_type": "stream",
          "text": [
            "Hours = 9.25\n",
            "Predicted Score = 93.47615144821324\n"
          ],
          "name": "stdout"
        }
      ]
    },
    {
      "cell_type": "code",
      "metadata": {
        "colab": {
          "base_uri": "https://localhost:8080/"
        },
        "id": "NEm1NfhGnCX1",
        "outputId": "be467c00-3d1f-4d46-c32d-af73386d1bdf"
      },
      "source": [
        "# Evaluating the model\n",
        "from sklearn.metrics import explained_variance_score\n",
        "print('Explained variance score =',explained_variance_score(y_test, y_test_pred))"
      ],
      "execution_count": null,
      "outputs": [
        {
          "output_type": "stream",
          "text": [
            "Explained variance score = 0.9657102056700803\n"
          ],
          "name": "stdout"
        }
      ]
    },
    {
      "cell_type": "code",
      "metadata": {
        "colab": {
          "base_uri": "https://localhost:8080/"
        },
        "id": "txnfi20jfaL5",
        "outputId": "65731c43-7a23-4734-c06c-35d64107a2c5"
      },
      "source": [
        "from sklearn.metrics import mean_absolute_error\n",
        "print('Mean absolute error =',mean_absolute_error(y_test, y_test_pred))"
      ],
      "execution_count": null,
      "outputs": [
        {
          "output_type": "stream",
          "text": [
            "Mean absolute error = 4.632080761369974\n"
          ],
          "name": "stdout"
        }
      ]
    }
  ]
}